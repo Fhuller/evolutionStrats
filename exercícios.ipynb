{
  "nbformat": 4,
  "nbformat_minor": 0,
  "metadata": {
    "colab": {
      "provenance": []
    },
    "kernelspec": {
      "name": "python3",
      "display_name": "Python 3"
    },
    "language_info": {
      "name": "python"
    }
  },
  "cells": [
    {
      "cell_type": "code",
      "execution_count": 1,
      "metadata": {
        "colab": {
          "base_uri": "https://localhost:8080/"
        },
        "id": "WDbk7QHLrDuI",
        "outputId": "a9ea0ad7-72f8-4da2-d40c-6320fe0e3dc9"
      },
      "outputs": [
        {
          "output_type": "stream",
          "name": "stdout",
          "text": [
            "Generation 0: Best fitness = 24.725377945141325\n",
            "Generation 10: Best fitness = 21.01285160579115\n",
            "Generation 20: Best fitness = 19.986135171993716\n",
            "Generation 30: Best fitness = 11.704790681691868\n",
            "Generation 40: Best fitness = 8.334379907834865\n",
            "Generation 50: Best fitness = 6.076778501731593\n",
            "Generation 60: Best fitness = 3.925148813317634\n",
            "Generation 70: Best fitness = 2.927899047622006\n",
            "Generation 80: Best fitness = 1.8149428949861162\n",
            "Generation 90: Best fitness = 1.4719268616634347\n",
            "\n",
            "Best solution found: [ 0.11327327  0.59577451 -0.11083054  0.05300852  0.29773298]\n",
            "Best fitness: 0.47151633131885995\n"
          ]
        }
      ],
      "source": [
        "import numpy as np\n",
        "\n",
        "def sphere_function(x):\n",
        "    return sum(x_i ** 2 for x_i in x)\n",
        "\n",
        "# Evolution Strategy (1+1) algorithm\n",
        "def evolution_strategy_1_plus_1(dimensions, max_generations, mutation_strength):\n",
        "    # Começa com uma solução aleatória\n",
        "    parent = np.random.uniform(-5.0, 5.0, dimensions)\n",
        "    parent_fitness = sphere_function(parent)\n",
        "\n",
        "    for generation in range(max_generations):\n",
        "        # Faz a mutação\n",
        "        offspring = parent + np.random.normal(0, mutation_strength, dimensions)\n",
        "        offspring_fitness = sphere_function(offspring)\n",
        "\n",
        "        # Seleciona a melhor solução\n",
        "        if offspring_fitness < parent_fitness:\n",
        "            parent, parent_fitness = offspring, offspring_fitness\n",
        "\n",
        "        # Opcional, a cada 10 gerações vai mostrar um print\n",
        "        if generation % 10 == 0:\n",
        "            print(f\"Generation {generation}: Best fitness = {parent_fitness}\")\n",
        "\n",
        "    return parent, parent_fitness\n",
        "\n",
        "# Roda o algoritmo\n",
        "best_solution, best_fitness = evolution_strategy_1_plus_1(dimensions=5, max_generations=100, mutation_strength=0.1)\n",
        "\n",
        "print(\"\\nBest solution found:\", best_solution)\n",
        "print(\"Best fitness:\", best_fitness)\n"
      ]
    },
    {
      "cell_type": "code",
      "source": [
        "import random\n",
        "\n",
        "# Lista de números\n",
        "numbers = [45, 12, 78, 4, 56, 23, 9, 88, 1, 37]\n",
        "\n",
        "# Evolution Strategy para encontrar o menor número\n",
        "def find_smallest_number(numbers, max_attempts):\n",
        "    # Começa com um número aleatório\n",
        "    parent = random.choice(numbers)\n",
        "    print(f\"Starting number: {parent}\")\n",
        "\n",
        "    for attempt in range(max_attempts):\n",
        "        # Escolhe um novo número aleatório\n",
        "        offspring = random.choice(numbers)\n",
        "        print(f\"Attempt {attempt + 1}: Trying {offspring}\")\n",
        "\n",
        "        # Se o novo for menor, ele sobscreve o pai\n",
        "        if offspring < parent:\n",
        "            parent = offspring\n",
        "            print(f\"Novo menor número: {parent}\")\n",
        "\n",
        "    return parent\n",
        "\n",
        "# Roda o algoritmo\n",
        "smallest_number = find_smallest_number(numbers, max_attempts=10)\n",
        "\n",
        "print(\"\\nO menor número encontrado é:\", smallest_number)\n"
      ],
      "metadata": {
        "colab": {
          "base_uri": "https://localhost:8080/"
        },
        "id": "hUKpl6Fmr53w",
        "outputId": "5d6bf48d-2d30-4f08-cdec-1dfe55a7cb72"
      },
      "execution_count": 3,
      "outputs": [
        {
          "output_type": "stream",
          "name": "stdout",
          "text": [
            "Starting number: 56\n",
            "Attempt 1: Trying 45\n",
            "Novo menor número: 45\n",
            "Attempt 2: Trying 9\n",
            "Novo menor número: 9\n",
            "Attempt 3: Trying 56\n",
            "Attempt 4: Trying 45\n",
            "Attempt 5: Trying 1\n",
            "Novo menor número: 1\n",
            "Attempt 6: Trying 56\n",
            "Attempt 7: Trying 23\n",
            "Attempt 8: Trying 45\n",
            "Attempt 9: Trying 88\n",
            "Attempt 10: Trying 37\n",
            "\n",
            "O menor número encontrado é: 1\n"
          ]
        }
      ]
    }
  ]
}